{
 "cells": [
  {
   "cell_type": "markdown",
   "id": "9bc75ac4",
   "metadata": {},
   "source": [
    "### Loading the libraries"
   ]
  },
  {
   "cell_type": "code",
   "execution_count": 1,
   "id": "b3ad841b",
   "metadata": {},
   "outputs": [],
   "source": [
    "import numpy as np\n",
    "import pandas as pd\n",
    "import itertools\n",
    "from sklearn.model_selection import train_test_split\n",
    "from sklearn.feature_extraction.text import TfidfVectorizer\n",
    "from sklearn.linear_model import PassiveAggressiveClassifier\n",
    "from sklearn.metrics import accuracy_score, confusion_matrix"
   ]
  },
  {
   "cell_type": "markdown",
   "id": "b82bc1e4",
   "metadata": {},
   "source": [
    "### Reading data"
   ]
  },
  {
   "cell_type": "code",
   "execution_count": 2,
   "id": "2ebc41c8",
   "metadata": {},
   "outputs": [],
   "source": [
    "df=pd.read_csv(\"news.csv\")"
   ]
  },
  {
   "cell_type": "markdown",
   "id": "26e9cf8a",
   "metadata": {},
   "source": [
    "### First 5 Rows of data"
   ]
  },
  {
   "cell_type": "code",
   "execution_count": 3,
   "id": "c2b374b0",
   "metadata": {},
   "outputs": [
    {
     "data": {
      "text/html": [
       "<div>\n",
       "<style scoped>\n",
       "    .dataframe tbody tr th:only-of-type {\n",
       "        vertical-align: middle;\n",
       "    }\n",
       "\n",
       "    .dataframe tbody tr th {\n",
       "        vertical-align: top;\n",
       "    }\n",
       "\n",
       "    .dataframe thead th {\n",
       "        text-align: right;\n",
       "    }\n",
       "</style>\n",
       "<table border=\"1\" class=\"dataframe\">\n",
       "  <thead>\n",
       "    <tr style=\"text-align: right;\">\n",
       "      <th></th>\n",
       "      <th>Unnamed: 0</th>\n",
       "      <th>title</th>\n",
       "      <th>text</th>\n",
       "      <th>label</th>\n",
       "    </tr>\n",
       "  </thead>\n",
       "  <tbody>\n",
       "    <tr>\n",
       "      <th>0</th>\n",
       "      <td>8476</td>\n",
       "      <td>You Can Smell Hillary’s Fear</td>\n",
       "      <td>Daniel Greenfield, a Shillman Journalism Fello...</td>\n",
       "      <td>FAKE</td>\n",
       "    </tr>\n",
       "    <tr>\n",
       "      <th>1</th>\n",
       "      <td>10294</td>\n",
       "      <td>Watch The Exact Moment Paul Ryan Committed Pol...</td>\n",
       "      <td>Google Pinterest Digg Linkedin Reddit Stumbleu...</td>\n",
       "      <td>FAKE</td>\n",
       "    </tr>\n",
       "    <tr>\n",
       "      <th>2</th>\n",
       "      <td>3608</td>\n",
       "      <td>Kerry to go to Paris in gesture of sympathy</td>\n",
       "      <td>U.S. Secretary of State John F. Kerry said Mon...</td>\n",
       "      <td>REAL</td>\n",
       "    </tr>\n",
       "    <tr>\n",
       "      <th>3</th>\n",
       "      <td>10142</td>\n",
       "      <td>Bernie supporters on Twitter erupt in anger ag...</td>\n",
       "      <td>— Kaydee King (@KaydeeKing) November 9, 2016 T...</td>\n",
       "      <td>FAKE</td>\n",
       "    </tr>\n",
       "    <tr>\n",
       "      <th>4</th>\n",
       "      <td>875</td>\n",
       "      <td>The Battle of New York: Why This Primary Matters</td>\n",
       "      <td>It's primary day in New York and front-runners...</td>\n",
       "      <td>REAL</td>\n",
       "    </tr>\n",
       "  </tbody>\n",
       "</table>\n",
       "</div>"
      ],
      "text/plain": [
       "   Unnamed: 0                                              title  \\\n",
       "0        8476                       You Can Smell Hillary’s Fear   \n",
       "1       10294  Watch The Exact Moment Paul Ryan Committed Pol...   \n",
       "2        3608        Kerry to go to Paris in gesture of sympathy   \n",
       "3       10142  Bernie supporters on Twitter erupt in anger ag...   \n",
       "4         875   The Battle of New York: Why This Primary Matters   \n",
       "\n",
       "                                                text label  \n",
       "0  Daniel Greenfield, a Shillman Journalism Fello...  FAKE  \n",
       "1  Google Pinterest Digg Linkedin Reddit Stumbleu...  FAKE  \n",
       "2  U.S. Secretary of State John F. Kerry said Mon...  REAL  \n",
       "3  — Kaydee King (@KaydeeKing) November 9, 2016 T...  FAKE  \n",
       "4  It's primary day in New York and front-runners...  REAL  "
      ]
     },
     "execution_count": 3,
     "metadata": {},
     "output_type": "execute_result"
    }
   ],
   "source": [
    "df.head()"
   ]
  },
  {
   "cell_type": "markdown",
   "id": "8a093ce4",
   "metadata": {},
   "source": [
    "### Shape of the data"
   ]
  },
  {
   "cell_type": "code",
   "execution_count": 4,
   "id": "a2366f36",
   "metadata": {},
   "outputs": [
    {
     "data": {
      "text/plain": [
       "(6335, 4)"
      ]
     },
     "execution_count": 4,
     "metadata": {},
     "output_type": "execute_result"
    }
   ],
   "source": [
    "df.shape"
   ]
  },
  {
   "cell_type": "markdown",
   "id": "911399bd",
   "metadata": {},
   "source": [
    "### To Check weather there is null value"
   ]
  },
  {
   "cell_type": "code",
   "execution_count": 5,
   "id": "a51cfb26",
   "metadata": {},
   "outputs": [
    {
     "data": {
      "text/plain": [
       "Unnamed: 0    0\n",
       "title         0\n",
       "text          0\n",
       "label         0\n",
       "dtype: int64"
      ]
     },
     "execution_count": 5,
     "metadata": {},
     "output_type": "execute_result"
    }
   ],
   "source": [
    "df.isnull().sum()"
   ]
  },
  {
   "cell_type": "code",
   "execution_count": 6,
   "id": "d1387b0d",
   "metadata": {},
   "outputs": [],
   "source": [
    "labels=df.label"
   ]
  },
  {
   "cell_type": "code",
   "execution_count": 7,
   "id": "e564baff",
   "metadata": {},
   "outputs": [
    {
     "data": {
      "text/plain": [
       "0    FAKE\n",
       "1    FAKE\n",
       "2    REAL\n",
       "3    FAKE\n",
       "4    REAL\n",
       "Name: label, dtype: object"
      ]
     },
     "execution_count": 7,
     "metadata": {},
     "output_type": "execute_result"
    }
   ],
   "source": [
    "labels.head()"
   ]
  },
  {
   "cell_type": "markdown",
   "id": "0bf10ad8",
   "metadata": {},
   "source": [
    "### Building a Machine Learning Model"
   ]
  },
  {
   "cell_type": "markdown",
   "id": "bf645d8b",
   "metadata": {},
   "source": [
    "Let's build a Machine Learning Model from the existing data that can predict whether news is **Real** or **Fake** for  news given by user."
   ]
  },
  {
   "cell_type": "markdown",
   "id": "aa0a749d",
   "metadata": {},
   "source": [
    "Before building a model, we need to test whether the model will work when a new news is given or not and whether we can trust it or not."
   ]
  },
  {
   "cell_type": "markdown",
   "id": "9141b85e",
   "metadata": {},
   "source": [
    "Remember that we cannot use the Training Model to evaluate our model because our Model will remember whole training data, therefore, it will predict the correct label for every point in the training set. Thus, this \"remembering\" does not indicate us whether the model is \"Generalise\" or perform well on **new data**."
   ]
  },
  {
   "cell_type": "markdown",
   "id": "3cc0b470",
   "metadata": {},
   "source": [
    "**Therefore, we split our data in two parts.**    \n",
    "**- Training Set:** One part will be used for **Training the Model**    \n",
    "**- Test Set:** The second part will be use to **Test the Model**."
   ]
  },
  {
   "cell_type": "markdown",
   "id": "cdf1b870",
   "metadata": {},
   "source": [
    "**scikit-learn** comes with a function that **shuffles the dataset** and **Splits if for you**.     \n",
    "**As a Rule of Thumb:**   \n",
    "- Use 75% of Data for Training Set\n",
    "- Use 25% of Data for Testing Set    \n",
    "\n",
    "How much data shall be used for Training and Testing is somewhat **arbitrary**. However, **using 75% for Training** and **25% for Testing** is a **good Rule of Thumb**."
   ]
  },
  {
   "cell_type": "code",
   "execution_count": 8,
   "id": "c108bf8b",
   "metadata": {},
   "outputs": [],
   "source": [
    "X_train,X_test,Y_train,Y_test= train_test_split(df[\"text\"],labels,test_size=0.2,random_state=20)"
   ]
  },
  {
   "cell_type": "markdown",
   "id": "6235671f",
   "metadata": {},
   "source": [
    "### Checking shape of Training and Test data"
   ]
  },
  {
   "cell_type": "code",
   "execution_count": 9,
   "id": "fec175c9",
   "metadata": {},
   "outputs": [
    {
     "name": "stdout",
     "output_type": "stream",
     "text": [
      "Shape of Training Data X_train:  (5068,)\n",
      "Shape of Training Data y_train:  (5068,)\n"
     ]
    }
   ],
   "source": [
    "print(\"Shape of Training Data X_train: \", X_train.shape)\n",
    "print(\"Shape of Training Data y_train: \", Y_train.shape)"
   ]
  },
  {
   "cell_type": "code",
   "execution_count": 10,
   "id": "f5f7d1ad",
   "metadata": {},
   "outputs": [
    {
     "name": "stdout",
     "output_type": "stream",
     "text": [
      "Shape of Test Data X_test:  (1267,)\n",
      "Shape of Test Data y_test:  (1267,)\n"
     ]
    }
   ],
   "source": [
    "print(\"Shape of Test Data X_test: \", X_test.shape)\n",
    "print(\"Shape of Test Data y_test: \", Y_test.shape)"
   ]
  },
  {
   "cell_type": "code",
   "execution_count": 11,
   "id": "59670831",
   "metadata": {},
   "outputs": [
    {
     "data": {
      "text/plain": [
       "4741    NAIROBI, Kenya — President Obama spoke out Sun...\n",
       "2089    Killing Obama administration rules, dismantlin...\n",
       "4074    Dean Obeidallah, a former attorney, is the hos...\n",
       "5376      WashingtonsBlog \\nCNN’s Jake Tapper hit the ...\n",
       "6028    Some of the biggest issues facing America this...\n",
       "Name: text, dtype: object"
      ]
     },
     "execution_count": 11,
     "metadata": {},
     "output_type": "execute_result"
    }
   ],
   "source": [
    "X_train.head()"
   ]
  },
  {
   "cell_type": "markdown",
   "id": "1a497189",
   "metadata": {},
   "source": [
    "### TFIDVectorizer"
   ]
  },
  {
   "cell_type": "markdown",
   "id": "0ab3b4ef",
   "metadata": {},
   "source": [
    "**TF (Term Frequency):** The number of times a word appears in a document is its Term Frequency. A higher value means a term appears more often than others, and so, the document is a good match when the term is part of the search terms."
   ]
  },
  {
   "cell_type": "markdown",
   "id": "39f7c0b7",
   "metadata": {},
   "source": [
    "**IDF (Inverse Document Frequency):** Words that occur many times a document, but also occur many times in many others, may be irrelevant. IDF is a measure of how significant a term is in the entire corpus.\n",
    "\n",
    "The TfidfVectorizer converts a collection of raw documents into a matrix of TF-IDF features."
   ]
  },
  {
   "cell_type": "markdown",
   "id": "2f99f380",
   "metadata": {},
   "source": [
    "**Example:** If you search something on the search engine, with the help of TFIDF values, search engines can give us the most relevant documents related to our search."
   ]
  },
  {
   "cell_type": "code",
   "execution_count": 12,
   "id": "d5cf571b",
   "metadata": {},
   "outputs": [],
   "source": [
    "vector=TfidfVectorizer(stop_words='english',max_df=0.7)"
   ]
  },
  {
   "cell_type": "code",
   "execution_count": 13,
   "id": "65c99265",
   "metadata": {},
   "outputs": [],
   "source": [
    "tf_train=vector.fit_transform(X_train)\n",
    "tf_test=vector.transform(X_test)"
   ]
  },
  {
   "cell_type": "markdown",
   "id": "12b56ed5",
   "metadata": {},
   "source": [
    "### Passive Aggressive Classifier"
   ]
  },
  {
   "cell_type": "markdown",
   "id": "d9d94a7d",
   "metadata": {},
   "source": [
    "Passive Aggressive algorithms are online learning algorithms. Such an algorithm remains passive for a correct classification outcome, and turns aggressive in the event of a miscalculation, updating and adjusting. Unlike most other algorithms, it does not converge. Its purpose is to make updates that correct the loss, causing very little change in the norm of the weight vector."
   ]
  },
  {
   "cell_type": "code",
   "execution_count": 14,
   "id": "f8eee090",
   "metadata": {},
   "outputs": [
    {
     "data": {
      "text/plain": [
       "PassiveAggressiveClassifier(max_iter=50)"
      ]
     },
     "execution_count": 14,
     "metadata": {},
     "output_type": "execute_result"
    }
   ],
   "source": [
    "fnd=PassiveAggressiveClassifier(max_iter=50)\n",
    "fnd.fit(tf_train,Y_train)"
   ]
  },
  {
   "cell_type": "code",
   "execution_count": null,
   "id": "a92736c7",
   "metadata": {},
   "outputs": [],
   "source": []
  },
  {
   "cell_type": "code",
   "execution_count": 15,
   "id": "f3e91aa2",
   "metadata": {},
   "outputs": [],
   "source": [
    "y_pred=fnd.predict(tf_test)"
   ]
  },
  {
   "cell_type": "markdown",
   "id": "f7f30c45",
   "metadata": {},
   "source": [
    "### Confusion matrix"
   ]
  },
  {
   "cell_type": "markdown",
   "id": "5dc4318b",
   "metadata": {},
   "source": [
    "A confusion matrix is a tabular summary of the number of correct and incorrect predictions made by a classifier. It can be used to evaluate the performance of a classification model through the calculation of performance metrics like accuracy, precision, recall, and F1-score."
   ]
  },
  {
   "cell_type": "code",
   "execution_count": 16,
   "id": "c316bfc6",
   "metadata": {},
   "outputs": [
    {
     "data": {
      "text/plain": [
       "array([[624,  24],\n",
       "       [ 40, 579]], dtype=int64)"
      ]
     },
     "execution_count": 16,
     "metadata": {},
     "output_type": "execute_result"
    }
   ],
   "source": [
    "confusion_matrix(Y_test,y_pred,labels=['FAKE','REAL'])"
   ]
  },
  {
   "cell_type": "markdown",
   "id": "07951016",
   "metadata": {},
   "source": [
    "### Saving model"
   ]
  },
  {
   "cell_type": "code",
   "execution_count": 17,
   "id": "06f0dc53",
   "metadata": {},
   "outputs": [],
   "source": [
    "import pickle"
   ]
  },
  {
   "cell_type": "code",
   "execution_count": 18,
   "id": "e6065ac5",
   "metadata": {},
   "outputs": [],
   "source": [
    "filename='finalized_model.pkl'\n",
    "pickle.dump(fnd,open(filename,'wb'))"
   ]
  },
  {
   "cell_type": "code",
   "execution_count": null,
   "id": "48a7787b",
   "metadata": {},
   "outputs": [],
   "source": []
  },
  {
   "cell_type": "markdown",
   "id": "b2428a4b",
   "metadata": {},
   "source": [
    "### Checking accuracy score\n"
   ]
  },
  {
   "cell_type": "code",
   "execution_count": 20,
   "id": "d701d24c",
   "metadata": {},
   "outputs": [
    {
     "data": {
      "text/plain": [
       "0.9494869771112865"
      ]
     },
     "execution_count": 20,
     "metadata": {},
     "output_type": "execute_result"
    }
   ],
   "source": [
    "score=accuracy_score(Y_test,y_pred)\n",
    "score"
   ]
  },
  {
   "cell_type": "code",
   "execution_count": 19,
   "id": "c4ed5e1d",
   "metadata": {},
   "outputs": [],
   "source": [
    "filename='vectorizer.pkl'\n",
    "pickle.dump(vector,open(filename,'wb'))"
   ]
  },
  {
   "cell_type": "code",
   "execution_count": null,
   "id": "19944c4e",
   "metadata": {},
   "outputs": [],
   "source": [
    " "
   ]
  },
  {
   "cell_type": "code",
   "execution_count": null,
   "id": "5c97bb81",
   "metadata": {},
   "outputs": [],
   "source": []
  },
  {
   "cell_type": "code",
   "execution_count": null,
   "id": "92f042b6",
   "metadata": {},
   "outputs": [],
   "source": []
  }
 ],
 "metadata": {
  "kernelspec": {
   "display_name": "Python 3",
   "language": "python",
   "name": "python3"
  },
  "language_info": {
   "codemirror_mode": {
    "name": "ipython",
    "version": 3
   },
   "file_extension": ".py",
   "mimetype": "text/x-python",
   "name": "python",
   "nbconvert_exporter": "python",
   "pygments_lexer": "ipython3",
   "version": "3.8.8"
  }
 },
 "nbformat": 4,
 "nbformat_minor": 5
}
